{
 "cells": [
  {
   "cell_type": "code",
   "execution_count": 7,
   "metadata": {},
   "outputs": [
    {
     "name": "stdout",
     "output_type": "stream",
     "text": [
      "Forcasted Profit: $4336947326.23\n"
     ]
    }
   ],
   "source": [
    "import numpy as np\n",
    "\n",
    "def forecast_profit(days, roi, balance):\n",
    "    total = balance\n",
    "    i = 0\n",
    "    while i < days:\n",
    "        total = total * roi + total\n",
    "        i += 1\n",
    "        \n",
    "    return total\n",
    "\n",
    "\n",
    "print('Forcasted Profit: $%.2f'% forecast_profit(365,.05,80))\n",
    "\n"
   ]
  }
 ],
 "metadata": {
  "kernelspec": {
   "display_name": "Python 3",
   "language": "python",
   "name": "python3"
  },
  "language_info": {
   "codemirror_mode": {
    "name": "ipython",
    "version": 3
   },
   "file_extension": ".py",
   "mimetype": "text/x-python",
   "name": "python",
   "nbconvert_exporter": "python",
   "pygments_lexer": "ipython3",
   "version": "3.6.3"
  }
 },
 "nbformat": 4,
 "nbformat_minor": 2
}
